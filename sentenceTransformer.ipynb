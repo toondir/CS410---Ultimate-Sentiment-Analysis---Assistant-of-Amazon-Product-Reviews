{
 "cells": [
  {
   "cell_type": "markdown",
   "id": "0873ae04",
   "metadata": {},
   "source": [
    "<h1>Load data into dataframe</h1>"
   ]
  },
  {
   "cell_type": "code",
   "execution_count": null,
   "id": "eb7bddb5",
   "metadata": {},
   "outputs": [],
   "source": [
    "import pandas as pd\n",
    "df = pd.read_json('Software_5.json.gz', lines=True, compression='gzip')\n",
    "df.head()"
   ]
  },
  {
   "cell_type": "code",
   "execution_count": null,
   "id": "0b319794",
   "metadata": {},
   "outputs": [],
   "source": [
    "from sentence_transformers import SentenceTransformer\n",
    "\n",
    "model = SentenceTransformer('all-MiniLM-L6-v2')"
   ]
  },
  {
   "cell_type": "code",
   "execution_count": 17,
   "id": "1805dff0",
   "metadata": {},
   "outputs": [],
   "source": [
    "review_embeddings = model.encode(df['reviewText'].tolist(), convert_to_tensor=True)\n"
   ]
  },
  {
   "cell_type": "code",
   "execution_count": 18,
   "id": "98df8a5d",
   "metadata": {},
   "outputs": [],
   "source": [
    "query = \"battery life\"\n",
    "\n",
    "queryEmbedding = model.encode(query, convert_to_tensor = True)\n",
    "\n"
   ]
  },
  {
   "cell_type": "code",
   "execution_count": null,
   "id": "11210c60",
   "metadata": {},
   "outputs": [],
   "source": []
  },
  {
   "cell_type": "code",
   "execution_count": null,
   "id": "781da035",
   "metadata": {},
   "outputs": [],
   "source": []
  },
  {
   "cell_type": "code",
   "execution_count": null,
   "id": "f7f8db47",
   "metadata": {},
   "outputs": [],
   "source": []
  },
  {
   "cell_type": "code",
   "execution_count": 23,
   "id": "58bd35a8",
   "metadata": {},
   "outputs": [
    {
     "name": "stdout",
     "output_type": "stream",
     "text": [
      "Saved model -> models/all-MiniLM-L6-v2\n",
      "Saved embeddings -> review_embeddings.npy\n",
      "Saved dataframe -> reviews_df.pkl\n"
     ]
    }
   ],
   "source": [
    "# Save the SentenceTransformer model and computed embeddings to disk\n",
    "# Run this once after you have instantiated `model` and computed `review_embeddings`.\n",
    "\n",
    "# 1) Save the model local copy (prevents re-downloading/re-instantiating)\n",
    "model.save('models/all-MiniLM-L6-v2')\n",
    "\n",
    "# 2) Save embeddings and the dataframe for later use\n",
    "import numpy as np\n",
    "\n",
    "# If review_embeddings is a torch tensor (convert_to_tensor=True), convert to numpy first\n",
    "try:\n",
    "    emb_numpy = review_embeddings.cpu().numpy()\n",
    "except Exception:\n",
    "    # if already numpy\n",
    "    emb_numpy = np.array(review_embeddings)\n",
    "\n",
    "np.save('review_embeddings.npy', emb_numpy)\n",
    "\n",
    "# Save the dataframe (so you can map embeddings back to reviews)\n",
    "# This saves the entire dataframe; change to subset if you prefer.\n",
    "import pandas as pd\n",
    "df.to_pickle('reviews_df.pkl')\n",
    "\n",
    "print('Saved model -> models/all-MiniLM-L6-v2')\n",
    "print('Saved embeddings -> review_embeddings.npy')\n",
    "print('Saved dataframe -> reviews_df.pkl')"
   ]
  },
  {
   "cell_type": "code",
   "execution_count": 60,
   "id": "d9ee2f1b",
   "metadata": {},
   "outputs": [
    {
     "name": "stdout",
     "output_type": "stream",
     "text": [
      "Score: 0.7615\n",
      "Review: OK, so I admit that I know nothing about photoshop but I wondered if this would be a good subsitute. Honestly, I'm not sure that it is. However, for about thirty bucks, it's perfect for a novice like me. I take a lot of digital photos and most are pretty lousy. I am still learning all the features and functions, but I do have to say that I've made some pics a bit better. It's also easier to crop and resize than in other applications that I have, but I'm not sure that's enough to warrant a 30 dollar purchase.\n",
      "\n",
      "Score: 0.7472\n",
      "Review: I know there are fans of this software, and it's a good buy, but I prefer Photoshop Elements (Adobe) and can't get into the PS Pro interface. It's ok but I find it slower and clunkier than Photoshop Elements. I suppose it's what you are used to, that is, a matter of taste. However, it will do the job of editing photos. Meh.\n",
      "\n",
      "Score: 0.7440\n",
      "Review: It's been a while since I used PaintShop Pro, and it's as good as I remember. It has tools for both photo editing and graphic design. It's not as robust as Adobe Photoshop, but I've always found it more user friendly and easier to use. Lots of cool filters and effects are included.\n",
      "\n",
      "Score: 0.7216\n",
      "Review: I am a serious photographer and use several different photo-editing software programs including:  PhotoShop; Lightroom ; and Photomatix,among others.  I am always looking for something new so when I got a chance to try this program out it jumped at it.\n",
      "\n",
      "I am so used to operating my other software that it is hard to make a fair comparison between and something that I have to learn all over again.  Still, I will do my best.\n",
      "\n",
      "I think that this is a well thought out photo editing package.  It does many of the things that PhotoShop Elements does.  I can see this being a good program for students or beginners.  I still think that PhotoShop is a better choice for the professional photographer or those wishing to become one.\n",
      "\n",
      "Score: 0.7004\n",
      "Review: I purchased this program for works my pictures.\n",
      "Pros:\n",
      "1) graphical interface is nice.\n",
      "2) The tool very similar photoshop cs5\n",
      "3)The tool level is wonderfull\n",
      "4) The tool fix efects is good.\n",
      "Cons\n",
      "1) Very slowly\n",
      "I recomended only light works\n",
      "\n",
      "✅ Model and embeddings loaded successfully.\n"
     ]
    }
   ],
   "source": [
    "from sentence_transformers import SentenceTransformer, util\n",
    "import numpy as np\n",
    "import pandas as pd\n",
    "\n",
    "# 1) Load the local model (no download)\n",
    "model = SentenceTransformer('models/all-MiniLM-L6-v2')\n",
    "\n",
    "# 2) Load embeddings and dataframe\n",
    "embeddings = np.load('review_embeddings.npy')\n",
    "df = pd.read_pickle('reviews_df.pkl')\n",
    "\n",
    "# 3) Encode query\n",
    "query = \"Is Photoshop Good?\"\n",
    "query_embedding = model.encode(query)\n",
    "\n",
    "# 4) Compute cosine similarities\n",
    "scores = util.cos_sim(query_embedding, embeddings)[0]  # tensor shape: (num_reviews,)\n",
    "\n",
    "# 5) Convert to NumPy\n",
    "scores = scores.cpu().numpy()\n",
    "\n",
    "# 6) Get top-k indices (highest scores first)\n",
    "topk = 5\n",
    "topk_indices = np.argsort(-scores)[:topk]\n",
    "\n",
    "# 7) Display results\n",
    "for idx in topk_indices:\n",
    "    print(f\"Score: {scores[idx]:.4f}\")\n",
    "    print(f\"Review: {df.iloc[idx]['reviewText']}\\n\")\n",
    "\n",
    "print('✅ Model and embeddings loaded successfully.')\n"
   ]
  },
  {
   "cell_type": "code",
   "execution_count": 57,
   "id": "682bd3e7",
   "metadata": {},
   "outputs": [
    {
     "data": {
      "text/plain": [
       "array([11030,  4400,  5172, 11554,  5984])"
      ]
     },
     "execution_count": 57,
     "metadata": {},
     "output_type": "execute_result"
    }
   ],
   "source": [
    "topk_indices"
   ]
  },
  {
   "cell_type": "code",
   "execution_count": 58,
   "id": "9cbd37de",
   "metadata": {},
   "outputs": [
    {
     "data": {
      "text/plain": [
       "overall                                                           4\n",
       "verified                                                      False\n",
       "reviewTime                                               11 3, 2015\n",
       "reviewerID                                           A17HMM1M7T9PJ1\n",
       "asin                                                     B0158RGNR8\n",
       "style                                     {'Platform:': ' PC Disc'}\n",
       "reviewerName                                       Timothy B. Riley\n",
       "reviewText        I am a serious photographer and use several di...\n",
       "summary           Very fitting for the advanced amateur photogra...\n",
       "unixReviewTime                                           1446508800\n",
       "vote                                                            NaN\n",
       "image                                                           NaN\n",
       "Name: 11554, dtype: object"
      ]
     },
     "execution_count": 58,
     "metadata": {},
     "output_type": "execute_result"
    }
   ],
   "source": [
    "df.iloc[11554]"
   ]
  },
  {
   "cell_type": "code",
   "execution_count": null,
   "id": "f04d5873",
   "metadata": {},
   "outputs": [],
   "source": []
  }
 ],
 "metadata": {
  "kernelspec": {
   "display_name": "Python 3",
   "language": "python",
   "name": "python3"
  },
  "language_info": {
   "codemirror_mode": {
    "name": "ipython",
    "version": 3
   },
   "file_extension": ".py",
   "mimetype": "text/x-python",
   "name": "python",
   "nbconvert_exporter": "python",
   "pygments_lexer": "ipython3",
   "version": "3.13.1"
  }
 },
 "nbformat": 4,
 "nbformat_minor": 5
}
