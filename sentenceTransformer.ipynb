{
 "cells": [
  {
   "cell_type": "code",
   "execution_count": null,
   "id": "09874f7c",
   "metadata": {},
   "outputs": [
    {
     "ename": "NameError",
     "evalue": "name 's' is not defined",
     "output_type": "error",
     "traceback": [
      "\u001b[1;31m---------------------------------------------------------------------------\u001b[0m",
      "\u001b[1;31mNameError\u001b[0m                                 Traceback (most recent call last)",
      "Cell \u001b[1;32mIn[9], line 20\u001b[0m\n\u001b[0;32m     17\u001b[0m embeddings \u001b[38;5;241m=\u001b[39m model\u001b[38;5;241m.\u001b[39mencode(sentences)\n\u001b[0;32m     19\u001b[0m \u001b[38;5;66;03m# Compute similarity between sentences\u001b[39;00m\n\u001b[1;32m---> 20\u001b[0m \u001b[43ms\u001b[49m\n\u001b[0;32m     21\u001b[0m \u001b[38;5;28mprint\u001b[39m(\u001b[38;5;124m\"\u001b[39m\u001b[38;5;124mSimilarity:\u001b[39m\u001b[38;5;124m\"\u001b[39m, )\n",
      "\u001b[1;31mNameError\u001b[0m: name 's' is not defined"
     ]
    }
   ],
   "source": [
    "from sentence_transformers import SentenceTransformer, util\n",
    "import json\n",
    "\n",
    "import numpy as np\n",
    "\n",
    "# Load a pre-trained model (e.g., 'all-MiniLM-L6-v2' is fast & accurate)\n",
    "model = SentenceTransformer('all-MiniLM-L6-v2')\n",
    "\n",
    "# Sentences to encode\n",
    "sentences = [\n",
    "    \"A man is eating food.\",\n",
    "    \"A person is eating a meal.\",\n",
    "    \"The weather is nice today.\"\n",
    "]\n",
    "\n",
    "# Get sentence embeddings\n",
    "embeddings = model.encode(sentences)\n",
    "\n",
    "# Compute similarity between sentences\n",
    "print(\"Similarity:\", )\n"
   ]
  },
  {
   "cell_type": "code",
   "execution_count": null,
   "id": "eb7bddb5",
   "metadata": {},
   "outputs": [],
   "source": []
  },
  {
   "cell_type": "code",
   "execution_count": null,
   "id": "fa0f3b92",
   "metadata": {},
   "outputs": [],
   "source": []
  }
 ],
 "metadata": {
  "kernelspec": {
   "display_name": "Python 3",
   "language": "python",
   "name": "python3"
  },
  "language_info": {
   "codemirror_mode": {
    "name": "ipython",
    "version": 3
   },
   "file_extension": ".py",
   "mimetype": "text/x-python",
   "name": "python",
   "nbconvert_exporter": "python",
   "pygments_lexer": "ipython3",
   "version": "3.13.1"
  }
 },
 "nbformat": 4,
 "nbformat_minor": 5
}
