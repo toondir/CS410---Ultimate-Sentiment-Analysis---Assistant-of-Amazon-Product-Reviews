{
 "cells": [
  {
   "cell_type": "markdown",
   "id": "36cde6bc",
   "metadata": {},
   "source": [
    "# Enter the Query and Get the Top 5 Most Relevant Reviews "
   ]
  },
  {
   "cell_type": "code",
   "execution_count": 10,
   "id": "b44d1701",
   "metadata": {},
   "outputs": [
    {
     "name": "stdout",
     "output_type": "stream",
     "text": [
      "✅ Model and embeddings loaded successfully!\n",
      "\n",
      "\n",
      "Top 5 results for: 'microsoft'\n",
      "\n",
      "🔹 Score: 0.8081\n",
      "💬 Review: I like Microsoft.\n",
      "\n",
      "🔹 Score: 0.7894\n",
      "💬 Review: What can you say, its microsoft.\n",
      "\n",
      "🔹 Score: 0.6506\n",
      "💬 Review: this operating system is by far the greatest made by Microsoft\n",
      "\n",
      "🔹 Score: 0.6494\n",
      "💬 Review: This is old, old, old software marketed as new stuff.  I've been ripped off. This, like everything else Microsoft touches these days, from the Ford Fusion's sync, through Windows 8, etc, is nothing but junk peddled on the rest of us so Microsoft can survive economically.  It is a has-been company as far as I'm concerned. :-(\n",
      "\n",
      "🔹 Score: 0.6346\n",
      "💬 Review: Best program to use. I would tell everyone to get all Microsoft  then the program give to us by our internet.\n",
      "\n",
      "------------------------------------------------------------\n",
      "\n",
      "👋 Exiting search. Goodbye!\n"
     ]
    }
   ],
   "source": [
    "from sentence_transformers import SentenceTransformer, util\n",
    "import numpy as np\n",
    "import pandas as pd\n",
    "\n",
    "# 1) Load the local model (no download)\n",
    "model = SentenceTransformer('models/all-MiniLM-L6-v2')\n",
    "\n",
    "# 2) Load embeddings and dataframe\n",
    "embeddings = np.load('review_embeddings.npy')\n",
    "df = pd.read_pickle('reviews_df.pkl')\n",
    "\n",
    "print(\"✅ Model and embeddings loaded successfully!\\n\")\n",
    "\n",
    "while True:\n",
    "    # 3) Ask the user for a query\n",
    "    query = input(\"Enter your search query (or 'exit' to quit): \").strip()\n",
    "    if query.lower() == 'exit':\n",
    "        print(\"👋 Exiting search. Goodbye!\")\n",
    "        break\n",
    "\n",
    "    # 4) Encode the query\n",
    "    query_embedding = model.encode(query)\n",
    "\n",
    "    # 5) Compute cosine similarities\n",
    "    scores = util.cos_sim(query_embedding, embeddings)[0].cpu().numpy()\n",
    "\n",
    "    # 6) Get top-k results\n",
    "    topk = 5\n",
    "    topk_indices = np.argsort(-scores)[:topk]\n",
    "\n",
    "    # 7) Display results\n",
    "    print(f\"\\nTop {topk} results for: '{query}'\\n\")\n",
    "    for idx in topk_indices:\n",
    "        print(f\"🔹 Score: {scores[idx]:.4f}\")\n",
    "        print(f\"💬 Review: {df.iloc[idx]['reviewText']}\\n\")\n",
    "\n",
    "    print(\"-\" * 60 + \"\\n\")\n"
   ]
  },
  {
   "cell_type": "code",
   "execution_count": 11,
   "id": "7b540487",
   "metadata": {},
   "outputs": [
    {
     "name": "stderr",
     "output_type": "stream",
     "text": [
      "No model was supplied, defaulted to distilbert/distilbert-base-uncased-finetuned-sst-2-english and revision 714eb0f (https://huggingface.co/distilbert/distilbert-base-uncased-finetuned-sst-2-english).\n",
      "Using a pipeline without specifying a model name and revision in production is not recommended.\n",
      "Device set to use mps:0\n"
     ]
    },
    {
     "data": {
      "text/plain": [
       "['I like Microsoft.',\n",
       " 'What can you say, its microsoft.',\n",
       " 'this operating system is by far the greatest made by Microsoft',\n",
       " \"This is old, old, old software marketed as new stuff.  I've been ripped off. This, like everything else Microsoft touches these days, from the Ford Fusion's sync, through Windows 8, etc, is nothing but junk peddled on the rest of us so Microsoft can survive economically.  It is a has-been company as far as I'm concerned. :-(\",\n",
       " 'Best program to use. I would tell everyone to get all Microsoft  then the program give to us by our internet.']"
      ]
     },
     "execution_count": 11,
     "metadata": {},
     "output_type": "execute_result"
    }
   ],
   "source": [
    "from transformers import pipeline\n",
    "\n",
    "sentiment_pipeline = pipeline(\"sentiment-analysis\")\n",
    "\n",
    "df.iloc[topk_indices]['reviewText']\n",
    "\n",
    "reviews = df.iloc[topk_indices]['reviewText']\n",
    "reviews = list(reviews)\n",
    "reviews \n"
   ]
  },
  {
   "cell_type": "code",
   "execution_count": 12,
   "id": "b0403c75",
   "metadata": {},
   "outputs": [
    {
     "data": {
      "text/plain": [
       "['I like Microsoft.',\n",
       " 'What can you say, its microsoft.',\n",
       " 'this operating system is by far the greatest made by Microsoft',\n",
       " \"This is old, old, old software marketed as new stuff.  I've been ripped off. This, like everything else Microsoft touches these days, from the Ford Fusion's sync, through Windows 8, etc, is nothing but junk peddled on the rest of us so Microsoft can survive economically.  It is a has-been company as far as I'm concerned. :-(\",\n",
       " 'Best program to use. I would tell everyone to get all Microsoft  then the program give to us by our internet.']"
      ]
     },
     "execution_count": 12,
     "metadata": {},
     "output_type": "execute_result"
    }
   ],
   "source": [
    "reviews"
   ]
  },
  {
   "cell_type": "code",
   "execution_count": 13,
   "id": "937f612b",
   "metadata": {},
   "outputs": [],
   "source": [
    "results = sentiment_pipeline(reviews)"
   ]
  },
  {
   "cell_type": "code",
   "execution_count": 14,
   "id": "236ea6a0",
   "metadata": {},
   "outputs": [],
   "source": [
    "actualStars = df[\"overall\"].iloc[topk_indices]"
   ]
  },
  {
   "cell_type": "code",
   "execution_count": 17,
   "id": "e6602371",
   "metadata": {},
   "outputs": [
    {
     "name": "stdout",
     "output_type": "stream",
     "text": [
      "Review: I like Microsoft.\n",
      "Sentiment: POSITIVE, Score: 1.00\n",
      "Star:  4.998371958732605\n",
      "Actual Star:  5 \n",
      "\n",
      "Review: What can you say, its microsoft.\n",
      "Sentiment: NEGATIVE, Score: 0.82\n",
      "Star:  1.3580284118652344\n",
      "Actual Star:  5 \n",
      "\n",
      "Review: this operating system is by far the greatest made by Microsoft\n",
      "Sentiment: POSITIVE, Score: 1.00\n",
      "Star:  4.999440550804138\n",
      "Actual Star:  5 \n",
      "\n",
      "Review: This is old, old, old software marketed as new stuff.  I've been ripped off. This, like everything else Microsoft touches these days, from the Ford Fusion's sync, through Windows 8, etc, is nothing but junk peddled on the rest of us so Microsoft can survive economically.  It is a has-been company as far as I'm concerned. :-(\n",
      "Sentiment: NEGATIVE, Score: 1.00\n",
      "Star:  1.0009032487869263\n",
      "Actual Star:  1 \n",
      "\n",
      "Review: Best program to use. I would tell everyone to get all Microsoft  then the program give to us by our internet.\n",
      "Sentiment: POSITIVE, Score: 0.64\n",
      "Star:  4.2777345180511475\n",
      "Actual Star:  5 \n",
      "\n"
     ]
    }
   ],
   "source": [
    "for review, result, actualStar in zip(reviews, results, actualStars):\n",
    "    print(f\"Review: {review}\")\n",
    "    print(f\"Sentiment: {result['label']}, Score: {result['score']:.2f}\")\n",
    "    if(result[\"label\"] == \"NEGATIVE\"):\n",
    "\n",
    "        star =  (-result[\"score\"] +1 ) /2 *4 + 1\n",
    "\n",
    "    else:\n",
    "        star = (result[\"score\"] + 1) /2 *4  + 1\n",
    "\n",
    "    print(\"Star: \", star  )\n",
    "    print(\"Actual Star: \", actualStar, \"\\n\")"
   ]
  },
  {
   "cell_type": "code",
   "execution_count": 16,
   "id": "7a423c9e",
   "metadata": {},
   "outputs": [
    {
     "data": {
      "text/html": [
       "<div>\n",
       "<style scoped>\n",
       "    .dataframe tbody tr th:only-of-type {\n",
       "        vertical-align: middle;\n",
       "    }\n",
       "\n",
       "    .dataframe tbody tr th {\n",
       "        vertical-align: top;\n",
       "    }\n",
       "\n",
       "    .dataframe thead th {\n",
       "        text-align: right;\n",
       "    }\n",
       "</style>\n",
       "<table border=\"1\" class=\"dataframe\">\n",
       "  <thead>\n",
       "    <tr style=\"text-align: right;\">\n",
       "      <th></th>\n",
       "      <th>overall</th>\n",
       "      <th>verified</th>\n",
       "      <th>reviewTime</th>\n",
       "      <th>reviewerID</th>\n",
       "      <th>asin</th>\n",
       "      <th>style</th>\n",
       "      <th>reviewerName</th>\n",
       "      <th>reviewText</th>\n",
       "      <th>summary</th>\n",
       "      <th>unixReviewTime</th>\n",
       "      <th>vote</th>\n",
       "      <th>image</th>\n",
       "    </tr>\n",
       "  </thead>\n",
       "  <tbody>\n",
       "    <tr>\n",
       "      <th>7901</th>\n",
       "      <td>5</td>\n",
       "      <td>True</td>\n",
       "      <td>05 9, 2014</td>\n",
       "      <td>A3U7J61Z9UERWQ</td>\n",
       "      <td>B00EDSI7QO</td>\n",
       "      <td>NaN</td>\n",
       "      <td>THOMAS L PETREE</td>\n",
       "      <td>I like Microsoft.</td>\n",
       "      <td>I love it</td>\n",
       "      <td>1399593600</td>\n",
       "      <td>NaN</td>\n",
       "      <td>NaN</td>\n",
       "    </tr>\n",
       "    <tr>\n",
       "      <th>8993</th>\n",
       "      <td>5</td>\n",
       "      <td>True</td>\n",
       "      <td>05 14, 2016</td>\n",
       "      <td>A2Q51L8MVGK5L6</td>\n",
       "      <td>B00HV9IM58</td>\n",
       "      <td>{'Platform:': ' O365 Personal Keycard'}</td>\n",
       "      <td>nevrider</td>\n",
       "      <td>What can you say, its microsoft.</td>\n",
       "      <td>you need this to be compitiable</td>\n",
       "      <td>1463184000</td>\n",
       "      <td>NaN</td>\n",
       "      <td>NaN</td>\n",
       "    </tr>\n",
       "    <tr>\n",
       "      <th>5406</th>\n",
       "      <td>5</td>\n",
       "      <td>False</td>\n",
       "      <td>10 18, 2017</td>\n",
       "      <td>AFD6W5PLS36DY</td>\n",
       "      <td>B004Q0T0LU</td>\n",
       "      <td>NaN</td>\n",
       "      <td>Anthony Joshua</td>\n",
       "      <td>this operating system is by far the greatest m...</td>\n",
       "      <td>Five Stars</td>\n",
       "      <td>1508284800</td>\n",
       "      <td>NaN</td>\n",
       "      <td>NaN</td>\n",
       "    </tr>\n",
       "    <tr>\n",
       "      <th>7264</th>\n",
       "      <td>1</td>\n",
       "      <td>True</td>\n",
       "      <td>08 31, 2014</td>\n",
       "      <td>A3NRHAQEUZTW4G</td>\n",
       "      <td>B00B1TEIRU</td>\n",
       "      <td>{'Platform:': ' O365 Home Download'}</td>\n",
       "      <td>Michael P. Murphy</td>\n",
       "      <td>This is old, old, old software marketed as new...</td>\n",
       "      <td>like everything else Microsoft touches these days</td>\n",
       "      <td>1409443200</td>\n",
       "      <td>2</td>\n",
       "      <td>NaN</td>\n",
       "    </tr>\n",
       "    <tr>\n",
       "      <th>1471</th>\n",
       "      <td>5</td>\n",
       "      <td>False</td>\n",
       "      <td>07 28, 2014</td>\n",
       "      <td>A3UEGYW49RUP1P</td>\n",
       "      <td>B000HCZ8EO</td>\n",
       "      <td>{'Format:': ' Software'}</td>\n",
       "      <td>Judy</td>\n",
       "      <td>Best program to use. I would tell everyone to ...</td>\n",
       "      <td>Best program to use</td>\n",
       "      <td>1406505600</td>\n",
       "      <td>NaN</td>\n",
       "      <td>NaN</td>\n",
       "    </tr>\n",
       "  </tbody>\n",
       "</table>\n",
       "</div>"
      ],
      "text/plain": [
       "      overall  verified   reviewTime      reviewerID        asin  \\\n",
       "7901        5      True   05 9, 2014  A3U7J61Z9UERWQ  B00EDSI7QO   \n",
       "8993        5      True  05 14, 2016  A2Q51L8MVGK5L6  B00HV9IM58   \n",
       "5406        5     False  10 18, 2017   AFD6W5PLS36DY  B004Q0T0LU   \n",
       "7264        1      True  08 31, 2014  A3NRHAQEUZTW4G  B00B1TEIRU   \n",
       "1471        5     False  07 28, 2014  A3UEGYW49RUP1P  B000HCZ8EO   \n",
       "\n",
       "                                        style       reviewerName  \\\n",
       "7901                                      NaN    THOMAS L PETREE   \n",
       "8993  {'Platform:': ' O365 Personal Keycard'}           nevrider   \n",
       "5406                                      NaN     Anthony Joshua   \n",
       "7264     {'Platform:': ' O365 Home Download'}  Michael P. Murphy   \n",
       "1471                 {'Format:': ' Software'}               Judy   \n",
       "\n",
       "                                             reviewText  \\\n",
       "7901                                  I like Microsoft.   \n",
       "8993                   What can you say, its microsoft.   \n",
       "5406  this operating system is by far the greatest m...   \n",
       "7264  This is old, old, old software marketed as new...   \n",
       "1471  Best program to use. I would tell everyone to ...   \n",
       "\n",
       "                                                summary  unixReviewTime vote  \\\n",
       "7901                                          I love it      1399593600  NaN   \n",
       "8993                    you need this to be compitiable      1463184000  NaN   \n",
       "5406                                         Five Stars      1508284800  NaN   \n",
       "7264  like everything else Microsoft touches these days      1409443200    2   \n",
       "1471                                Best program to use      1406505600  NaN   \n",
       "\n",
       "     image  \n",
       "7901   NaN  \n",
       "8993   NaN  \n",
       "5406   NaN  \n",
       "7264   NaN  \n",
       "1471   NaN  "
      ]
     },
     "execution_count": 16,
     "metadata": {},
     "output_type": "execute_result"
    }
   ],
   "source": [
    "df.iloc[topk_indices]"
   ]
  },
  {
   "cell_type": "code",
   "execution_count": null,
   "id": "c63753aa",
   "metadata": {},
   "outputs": [],
   "source": []
  }
 ],
 "metadata": {
  "kernelspec": {
   "display_name": "base",
   "language": "python",
   "name": "python3"
  },
  "language_info": {
   "codemirror_mode": {
    "name": "ipython",
    "version": 3
   },
   "file_extension": ".py",
   "mimetype": "text/x-python",
   "name": "python",
   "nbconvert_exporter": "python",
   "pygments_lexer": "ipython3",
   "version": "3.12.2"
  }
 },
 "nbformat": 4,
 "nbformat_minor": 5
}
