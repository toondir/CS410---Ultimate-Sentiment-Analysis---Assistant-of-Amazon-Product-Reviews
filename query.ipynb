{
 "cells": [
  {
   "cell_type": "markdown",
   "id": "36cde6bc",
   "metadata": {},
   "source": [
    "# Enter the Query and Get the Top 5 Most Relevant Reviews "
   ]
  },
  {
   "cell_type": "code",
   "execution_count": 2,
   "id": "b44d1701",
   "metadata": {},
   "outputs": [
    {
     "name": "stdout",
     "output_type": "stream",
     "text": [
      "✅ Model and embeddings loaded successfully!\n",
      "\n",
      "\n",
      "Top 5 results for: 'lightroom'\n",
      "\n",
      "🔹 Score: 0.6113\n",
      "💬 Review: I am a frequent user of Adobe products such as PhotoShop and Lightroom. I found this product a little bit difficult to begin using. It took me a bit of time to find everything I wanted. The performance was not too bad, and I was able to do everything I normally use Lightroom for. If I had a choice, I'd much rather use Lightroom. It's easier (perhaps just because that's what I'm used to?) and does seem to run a tad faster and smoother. That being said, this product retails for significantly less than Lightroom. If you cannot afford Lightroom or are on a tight budget, this is a perfectly good program to purchase instead. It seems to offer the same functionality as long as you're willing to be a it patient with it.\n",
      "\n",
      "🔹 Score: 0.5992\n",
      "💬 Review: This software does almost everything that Lightroom does at a less cost. Most people do not need or use all the features in Lightroom. I am not a professional photographer and for my needs this software is more that adequate. Once in a while it hangs up, but other than that it works fine.\n",
      "\n",
      "🔹 Score: 0.5674\n",
      "💬 Review: I started using this software immediately after ordering it and got into the habit of using it so quickly, I forgot it was a Vine item.  I would have paid for this software.\n",
      "\n",
      "It's a package deal for editing and organizing still photos and videos.  I confess I haven't played with the video editing much, but the photo editing is spectacular in regard to the appearance of the user interface, flexibility of viewing, ease of use, and so many editing features!\n",
      "\n",
      "I'm also playing with layers for fractal art I've created.  There is so much one can do with this software.  I've had it over a year and still haven't tried everything.  I love it, and you will too.\n",
      "\n",
      "🔹 Score: 0.5661\n",
      "💬 Review: I am going to school working on my Bachelors' degree  in Photograph, I am required to use Adobe Lightroom, so when I got this, I was looking forward to see how it compared to Lightroom. It is definitely a nice and cheaper alternative, especially for beginners or just for family photos.\n",
      "\n",
      "It isn't quite up to Lightroom, but definitely something that might be good to start out with, especially if you are a beginner and/or on a budget.\n",
      "\n",
      "It is nice to download my sd card and being able to get an overview of all the photos that I have taken, also having a program that will organize the photos and put them in specific folders. It is a very hand program.\n",
      "\n",
      "🔹 Score: 0.5471\n",
      "💬 Review: This is a very nice piece of photo editing software. It is intuitive enough so that people who do not have a lot of in depth experience with photo editing can pick it up easily and start editing. It is also robust enough so that experienced editors have the tools they need to work their magic without paying the high end photo editing software prices. I highly recommend it.\n",
      "\n",
      "------------------------------------------------------------\n",
      "\n",
      "👋 Exiting search. Goodbye!\n"
     ]
    }
   ],
   "source": [
    "from sentence_transformers import SentenceTransformer, util\n",
    "import numpy as np\n",
    "import pandas as pd\n",
    "\n",
    "# 1) Load the local model (no download)\n",
    "model = SentenceTransformer('models/all-MiniLM-L6-v2')\n",
    "\n",
    "# 2) Load embeddings and dataframe\n",
    "embeddings = np.load('review_embeddings.npy')\n",
    "df = pd.read_pickle('reviews_df.pkl')\n",
    "\n",
    "print(\"✅ Model and embeddings loaded successfully!\\n\")\n",
    "\n",
    "while True:\n",
    "    # 3) Ask the user for a query\n",
    "    query = input(\"Enter your search query (or 'exit' to quit): \").strip()\n",
    "    if query.lower() == 'exit':\n",
    "        print(\"👋 Exiting search. Goodbye!\")\n",
    "        break\n",
    "\n",
    "    # 4) Encode the query\n",
    "    query_embedding = model.encode(query)\n",
    "\n",
    "    # 5) Compute cosine similarities\n",
    "    scores = util.cos_sim(query_embedding, embeddings)[0].cpu().numpy()\n",
    "\n",
    "    # 6) Get top-k results\n",
    "    topk = 5\n",
    "    topk_indices = np.argsort(-scores)[:topk]\n",
    "\n",
    "    # 7) Display results\n",
    "    print(f\"\\nTop {topk} results for: '{query}'\\n\")\n",
    "    for idx in topk_indices:\n",
    "        print(f\"🔹 Score: {scores[idx]:.4f}\")\n",
    "        print(f\"💬 Review: {df.iloc[idx]['reviewText']}\\n\")\n",
    "\n",
    "    print(\"-\" * 60 + \"\\n\")\n"
   ]
  }
 ],
 "metadata": {
  "kernelspec": {
   "display_name": "Python 3",
   "language": "python",
   "name": "python3"
  },
  "language_info": {
   "codemirror_mode": {
    "name": "ipython",
    "version": 3
   },
   "file_extension": ".py",
   "mimetype": "text/x-python",
   "name": "python",
   "nbconvert_exporter": "python",
   "pygments_lexer": "ipython3",
   "version": "3.12.0"
  }
 },
 "nbformat": 4,
 "nbformat_minor": 5
}
