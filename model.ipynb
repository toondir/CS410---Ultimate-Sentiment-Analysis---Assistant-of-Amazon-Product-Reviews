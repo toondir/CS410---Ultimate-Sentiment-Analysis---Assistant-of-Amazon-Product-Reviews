{
 "cells": [
  {
   "cell_type": "markdown",
   "id": "0873ae04",
   "metadata": {},
   "source": [
    "# Encode the Reviews of the Dataset"
   ]
  },
  {
   "cell_type": "code",
   "execution_count": null,
   "id": "eb7bddb5",
   "metadata": {},
   "outputs": [],
   "source": [
    "import pandas as pd\n",
    "\n",
    "df = pd.read_json('Software_5.json.gz', lines=True, compression='gzip')\n",
    "df.head()"
   ]
  },
  {
   "cell_type": "code",
   "execution_count": null,
   "id": "0b319794",
   "metadata": {},
   "outputs": [],
   "source": [
    "from sentence_transformers import SentenceTransformer\n",
    "\n",
    "model = SentenceTransformer('all-MiniLM-L6-v2')"
   ]
  },
  {
   "cell_type": "code",
   "execution_count": null,
   "id": "1805dff0",
   "metadata": {},
   "outputs": [],
   "source": [
    "review_embeddings = model.encode(df['reviewText'].tolist(), convert_to_tensor=True)"
   ]
  },
  {
   "cell_type": "markdown",
   "id": "83caf30d",
   "metadata": {},
   "source": [
    "# Save the Encoding Reviews for Later Use"
   ]
  },
  {
   "cell_type": "code",
   "execution_count": null,
   "id": "58bd35a8",
   "metadata": {},
   "outputs": [
    {
     "name": "stdout",
     "output_type": "stream",
     "text": [
      "Saved model -> models/all-MiniLM-L6-v2\n",
      "Saved embeddings -> review_embeddings.npy\n",
      "Saved dataframe -> reviews_df.pkl\n"
     ]
    }
   ],
   "source": [
    "# Save the SentenceTransformer model and computed embeddings to disk\n",
    "# Run this once after you have instantiated `model` and computed `review_embeddings`.\n",
    "\n",
    "# 1) Save the model local copy (prevents re-downloading/re-instantiating)\n",
    "model.save('models/all-MiniLM-L6-v2')\n",
    "\n",
    "# 2) Save embeddings and the dataframe for later use\n",
    "import numpy as np\n",
    "\n",
    "# If review_embeddings is a torch tensor (convert_to_tensor=True), convert to numpy first\n",
    "try:\n",
    "    emb_numpy = review_embeddings.cpu().numpy()\n",
    "except Exception:\n",
    "    # if already numpy\n",
    "    emb_numpy = np.array(review_embeddings)\n",
    "\n",
    "np.save('review_embeddings.npy', emb_numpy)\n",
    "\n",
    "# Save the dataframe (so you can map embeddings back to reviews)\n",
    "# This saves the entire dataframe; change to subset if you prefer.\n",
    "df.to_pickle('reviews_df.pkl')\n",
    "\n",
    "print('Saved model -> models/all-MiniLM-L6-v2')\n",
    "print('Saved embeddings -> review_embeddings.npy')\n",
    "print('Saved dataframe -> reviews_df.pkl')"
   ]
  }
 ],
 "metadata": {
  "kernelspec": {
   "display_name": "Python 3",
   "language": "python",
   "name": "python3"
  },
  "language_info": {
   "codemirror_mode": {
    "name": "ipython",
    "version": 3
   },
   "file_extension": ".py",
   "mimetype": "text/x-python",
   "name": "python",
   "nbconvert_exporter": "python",
   "pygments_lexer": "ipython3",
   "version": "3.13.1"
  }
 },
 "nbformat": 4,
 "nbformat_minor": 5
}
